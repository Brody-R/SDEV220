{
 "cells": [
  {
   "cell_type": "code",
   "execution_count": 1,
   "id": "aa2f3295-5069-43c8-8f83-14d2c044c36f",
   "metadata": {},
   "outputs": [
    {
     "data": {
      "text/plain": [
       "['mozzarella', 'cinderella', 'salmonella']"
      ]
     },
     "execution_count": 1,
     "metadata": {},
     "output_type": "execute_result"
    }
   ],
   "source": [
    "['mozzarella', 'cinderella', 'salmonella']"
   ]
  },
  {
   "cell_type": "code",
   "execution_count": 3,
   "id": "c7738bf4-f486-4a2a-b2a3-20854f7a52f1",
   "metadata": {},
   "outputs": [
    {
     "data": {
      "text/plain": [
       "['mozzarella', 'Cinderella', 'salmonella']"
      ]
     },
     "execution_count": 3,
     "metadata": {},
     "output_type": "execute_result"
    }
   ],
   "source": [
    "['mozzarella', 'Cinderella', 'salmonella']"
   ]
  },
  {
   "cell_type": "code",
   "execution_count": 5,
   "id": "9338ab89-367c-4e01-a461-02f061cd313f",
   "metadata": {},
   "outputs": [
    {
     "name": "stdout",
     "output_type": "stream",
     "text": [
      "['MOZZARELLA', 'Cinderella', 'salmonella']\n"
     ]
    }
   ],
   "source": [
    "things = [\"mozzarella\", \"Cinderella\", \"salmonella\"]\n",
    "\n",
    "things[0] = things[0].upper()\n",
    "\n",
    "print(things)\n"
   ]
  },
  {
   "cell_type": "code",
   "execution_count": 7,
   "id": "938bccc5-acda-408e-afa6-8366cbeaea7c",
   "metadata": {},
   "outputs": [
    {
     "name": "stdout",
     "output_type": "stream",
     "text": [
      "['MOZZARELLA', 'Cinderella']\n"
     ]
    }
   ],
   "source": [
    "things = [\"MOZZARELLA\", \"Cinderella\", \"salmonella\"]\n",
    "\n",
    "things.remove(\"salmonella\")\n",
    "\n",
    "print(things)\n"
   ]
  },
  {
   "cell_type": "code",
   "execution_count": 9,
   "id": "27c59dac-5430-41fc-8fbe-05e8f73aef21",
   "metadata": {},
   "outputs": [
    {
     "name": "stdout",
     "output_type": "stream",
     "text": [
      "['Groucho', 'Chico', 'Harpo']\n"
     ]
    }
   ],
   "source": [
    "surprise = [\"Groucho\", \"Chico\", \"Harpo\"]\n",
    "\n",
    "print(surprise)\n"
   ]
  },
  {
   "cell_type": "code",
   "execution_count": null,
   "id": "4802872f-173c-4151-b10a-a7971708acea",
   "metadata": {},
   "outputs": [],
   "source": [
    "surprise = [\"Groucho\", \"Chico\", \"Harpo\"]\n",
    "\n",
    "last_element = surprise[-1]\n",
    "\n",
    "lowercased = last_element.lower()\n",
    "\n",
    "reversed_string = lowercased[::-1]\n",
    "\n",
    "# Capitalize the reversed string\n",
    "capitalized_reversed = reversed_string.capitalize()\n",
    "\n",
    "# Update the last element in the list\n",
    "surprise[-1] = capitalized_reversed\n",
    "\n",
    "# Print the modified list to verify the change\n",
    "print(surprise)\n"
   ]
  }
 ],
 "metadata": {
  "kernelspec": {
   "display_name": "Python 3 (ipykernel)",
   "language": "python",
   "name": "python3"
  },
  "language_info": {
   "codemirror_mode": {
    "name": "ipython",
    "version": 3
   },
   "file_extension": ".py",
   "mimetype": "text/x-python",
   "name": "python",
   "nbconvert_exporter": "python",
   "pygments_lexer": "ipython3",
   "version": "3.12.4"
  }
 },
 "nbformat": 4,
 "nbformat_minor": 5
}
