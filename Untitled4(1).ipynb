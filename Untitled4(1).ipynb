{
 "cells": [
  {
   "cell_type": "code",
   "execution_count": 2,
   "id": "a75c439d-45c2-4d75-aca0-a77a213db8f4",
   "metadata": {},
   "outputs": [
    {
     "name": "stdout",
     "output_type": "stream",
     "text": [
      "Current date written to today.txt\n"
     ]
    }
   ],
   "source": [
    "from datetime import datetime\n",
    "\n",
    "current_date = datetime.now().strftime(\"%Y-%m-%d\")\n",
    "\n",
    "with open('today.txt', 'w') as file:\n",
    "    file.write(current_date)\n",
    "\n",
    "print(\"Current date written to today.txt\")\n"
   ]
  },
  {
   "cell_type": "code",
   "execution_count": 4,
   "id": "4550472f-4752-49b2-b9bb-34b711c4b20e",
   "metadata": {},
   "outputs": [
    {
     "name": "stdout",
     "output_type": "stream",
     "text": [
      "Date read from today.txt: 2024-09-29\n"
     ]
    }
   ],
   "source": [
    "with open('today.txt', 'r') as file:\n",
    "    today_string = file.read()\n",
    "\n",
    "print(\"Date read from today.txt:\", today_string)\n"
   ]
  },
  {
   "cell_type": "code",
   "execution_count": 6,
   "id": "85d8b9aa-fd79-4a74-95da-1ee890a60b7d",
   "metadata": {},
   "outputs": [
    {
     "name": "stdout",
     "output_type": "stream",
     "text": [
      "Parsed date: 2024-09-29 00:00:00\n"
     ]
    }
   ],
   "source": [
    "parsed_date = datetime.strptime(today_string, \"%Y-%m-%d\")\n",
    "\n",
    "print(\"Parsed date:\", parsed_date)\n"
   ]
  },
  {
   "cell_type": "code",
   "execution_count": null,
   "id": "8d7b20e1-749f-4d49-bb8b-a5005b164393",
   "metadata": {},
   "outputs": [],
   "source": []
  }
 ],
 "metadata": {
  "kernelspec": {
   "display_name": "Python 3 (ipykernel)",
   "language": "python",
   "name": "python3"
  },
  "language_info": {
   "codemirror_mode": {
    "name": "ipython",
    "version": 3
   },
   "file_extension": ".py",
   "mimetype": "text/x-python",
   "name": "python",
   "nbconvert_exporter": "python",
   "pygments_lexer": "ipython3",
   "version": "3.12.4"
  }
 },
 "nbformat": 4,
 "nbformat_minor": 5
}
