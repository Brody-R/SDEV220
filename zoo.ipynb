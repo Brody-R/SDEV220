{
 "cells": [
  {
   "cell_type": "code",
   "execution_count": null,
   "id": "9b945571-3e88-4a9f-978a-995925bcb388",
   "metadata": {},
   "outputs": [],
   "source": [
    "\n",
    "def hours():\n",
    "    print('Open 9-5 daily')\n"
   ]
  },
  {
   "cell_type": "code",
   "execution_count": 2,
   "id": "d3ed182f-f6ff-4409-b655-f5776a07a96d",
   "metadata": {},
   "outputs": [
    {
     "ename": "ModuleNotFoundError",
     "evalue": "No module named 'zoo'",
     "output_type": "error",
     "traceback": [
      "\u001b[1;31m---------------------------------------------------------------------------\u001b[0m",
      "\u001b[1;31mModuleNotFoundError\u001b[0m                       Traceback (most recent call last)",
      "Cell \u001b[1;32mIn[2], line 1\u001b[0m\n\u001b[1;32m----> 1\u001b[0m \u001b[38;5;28;01mimport\u001b[39;00m \u001b[38;5;21;01mzoo\u001b[39;00m\n\u001b[0;32m      3\u001b[0m zoo\u001b[38;5;241m.\u001b[39mhours()\n",
      "\u001b[1;31mModuleNotFoundError\u001b[0m: No module named 'zoo'"
     ]
    }
   ],
   "source": [
    "import zoo\n",
    "\n",
    "zoo.hours()\n"
   ]
  },
  {
   "cell_type": "code",
   "execution_count": null,
   "id": "d27607e0-fdce-471b-b2e5-18cc740f5fce",
   "metadata": {},
   "outputs": [],
   "source": [
    "def hours():\n",
    "    print('Open 9-5 daily')\n"
   ]
  },
  {
   "cell_type": "code",
   "execution_count": 4,
   "id": "b214314d-9a9f-4ad3-ab8c-57e62263ba0b",
   "metadata": {},
   "outputs": [
    {
     "ename": "NameError",
     "evalue": "name 'hours' is not defined",
     "output_type": "error",
     "traceback": [
      "\u001b[1;31m---------------------------------------------------------------------------\u001b[0m",
      "\u001b[1;31mNameError\u001b[0m                                 Traceback (most recent call last)",
      "Cell \u001b[1;32mIn[4], line 1\u001b[0m\n\u001b[1;32m----> 1\u001b[0m hours()\n",
      "\u001b[1;31mNameError\u001b[0m: name 'hours' is not defined"
     ]
    }
   ],
   "source": [
    "hours()\n"
   ]
  },
  {
   "cell_type": "code",
   "execution_count": 6,
   "id": "057e47ee-2bd1-4a67-acfe-d4d9a045da07",
   "metadata": {},
   "outputs": [
    {
     "name": "stdout",
     "output_type": "stream",
     "text": [
      "Open 9-5 daily\n"
     ]
    }
   ],
   "source": [
    "def hours():\n",
    "    print('Open 9-5 daily')\n",
    "\n",
    "hours()"
   ]
  },
  {
   "cell_type": "code",
   "execution_count": 8,
   "id": "ef159a5d-ade7-4bad-8993-37fe74fb920e",
   "metadata": {},
   "outputs": [
    {
     "name": "stdout",
     "output_type": "stream",
     "text": [
      "Open 9-5 daily\n"
     ]
    }
   ],
   "source": [
    "import types\n",
    "\n",
    "menagerie = types.ModuleType('menagerie')\n",
    "\n",
    "menagerie.hours = hours\n",
    "\n",
    "menagerie.hours()\n"
   ]
  },
  {
   "cell_type": "code",
   "execution_count": 11,
   "id": "3704bb09-e2de-47f0-8503-9adca5043fc1",
   "metadata": {},
   "outputs": [
    {
     "name": "stdout",
     "output_type": "stream",
     "text": [
      "books.csv has been created.\n"
     ]
    }
   ],
   "source": [
    "import csv\n",
    "\n",
    "data = [\n",
    "    [\"author\", \"book\"],\n",
    "    [\"J R R Tolkien\", \"The Hobbit\"],\n",
    "    [\"Lynne Truss\", \"Eats, Shoots & Leaves\"]\n",
    "]\n",
    "\n",
    "with open('books.csv', mode='w', newline='') as file:\n",
    "    writer = csv.writer(file)\n",
    "    writer.writerows(data)\n",
    "    \n",
    "print(\"books.csv has been created.\")\n"
   ]
  },
  {
   "cell_type": "code",
   "execution_count": 13,
   "id": "e9e72a61-4e33-4ea0-ba71-481570be611e",
   "metadata": {},
   "outputs": [
    {
     "name": "stdout",
     "output_type": "stream",
     "text": [
      "{'author': 'J R R Tolkien', 'book': 'The Hobbit'}\n",
      "{'author': 'Lynne Truss', 'book': 'Eats, Shoots & Leaves'}\n"
     ]
    }
   ],
   "source": [
    "import csv\n",
    "\n",
    "with open('books.csv', mode='r') as file:\n",
    "    reader = csv.DictReader(file)\n",
    "    books = list(reader)\n",
    "\n",
    "for book in books:\n",
    "    print(book)\n"
   ]
  },
  {
   "cell_type": "code",
   "execution_count": 15,
   "id": "31fa903e-ce1f-47e5-968b-d7fc6df24c50",
   "metadata": {},
   "outputs": [
    {
     "name": "stdout",
     "output_type": "stream",
     "text": [
      "books2.csv has been created.\n"
     ]
    }
   ],
   "source": [
    "import csv\n",
    "\n",
    "data = [\n",
    "    [\"title\", \"author\", \"year\"],\n",
    "    [\"The Weirdstone of Brisingamen\", \"Alan Garner\", 1960],\n",
    "    [\"Perdido Street Station\", \"China Miéville\", 2000],\n",
    "    [\"Thud!\", \"Terry Pratchett\", 2005],\n",
    "    [\"The Spellman Files\", \"Lisa Lutz\", 2007],\n",
    "    [\"Small Gods\", \"Terry Pratchett\", 1992]\n",
    "]\n",
    "\n",
    "with open('books2.csv', mode='w', newline='') as file:\n",
    "    writer = csv.writer(file)\n",
    "    writer.writerows(data)\n",
    "    \n",
    "print(\"books2.csv has been created.\")\n"
   ]
  },
  {
   "cell_type": "code",
   "execution_count": 17,
   "id": "96accd1a-cfe2-490d-91c5-516ab26c077b",
   "metadata": {},
   "outputs": [
    {
     "name": "stdout",
     "output_type": "stream",
     "text": [
      "Database and table created.\n"
     ]
    }
   ],
   "source": [
    "import sqlite3\n",
    "\n",
    "conn = sqlite3.connect('books.db')\n",
    "cursor = conn.cursor()\n",
    "\n",
    "cursor.execute('''\n",
    "CREATE TABLE IF NOT EXISTS books (\n",
    "    title TEXT,\n",
    "    author TEXT,\n",
    "    year INTEGER\n",
    ")\n",
    "''')\n",
    "\n",
    "conn.commit()\n",
    "conn.close()\n",
    "\n",
    "print(\"Database and table created.\")\n"
   ]
  },
  {
   "cell_type": "code",
   "execution_count": 19,
   "id": "00093dd7-c430-4954-8965-5c50c9324de1",
   "metadata": {},
   "outputs": [
    {
     "name": "stdout",
     "output_type": "stream",
     "text": [
      "Data inserted into the database.\n"
     ]
    }
   ],
   "source": [
    "import csv\n",
    "import sqlite3\n",
    "\n",
    "conn = sqlite3.connect('books.db')\n",
    "cursor = conn.cursor()\n",
    "\n",
    "with open('books2.csv', mode='r') as file:\n",
    "    reader = csv.DictReader(file)\n",
    "    for row in reader:\n",
    "        cursor.execute('''\n",
    "        INSERT INTO books (title, author, year)\n",
    "        VALUES (?, ?, ?)\n",
    "        ''', (row['title'], row['author'], int(row['year'])))\n",
    "\n",
    "conn.commit()\n",
    "conn.close()\n",
    "\n",
    "print(\"Data inserted into the database.\")\n"
   ]
  },
  {
   "cell_type": "code",
   "execution_count": 21,
   "id": "2a8a69e0-3273-4d3d-a779-a139ecafda34",
   "metadata": {},
   "outputs": [
    {
     "name": "stdout",
     "output_type": "stream",
     "text": [
      "Perdido Street Station\n",
      "Small Gods\n",
      "The Spellman Files\n",
      "The Weirdstone of Brisingamen\n",
      "Thud!\n"
     ]
    }
   ],
   "source": [
    "import sqlite3\n",
    "\n",
    "conn = sqlite3.connect('books.db')\n",
    "cursor = conn.cursor()\n",
    "\n",
    "cursor.execute('''\n",
    "SELECT title FROM books\n",
    "ORDER BY title\n",
    "''')\n",
    "\n",
    "for row in cursor.fetchall():\n",
    "    print(row[0])\n",
    "\n",
    "conn.close()\n"
   ]
  },
  {
   "cell_type": "code",
   "execution_count": 23,
   "id": "75ecf500-0519-42c9-a949-9a384a6f5c0e",
   "metadata": {},
   "outputs": [
    {
     "name": "stdout",
     "output_type": "stream",
     "text": [
      "('The Weirdstone of Brisingamen', 'Alan Garner', 1960)\n",
      "('Small Gods', 'Terry Pratchett', 1992)\n",
      "('Perdido Street Station', 'China Miéville', 2000)\n",
      "('Thud!', 'Terry Pratchett', 2005)\n",
      "('The Spellman Files', 'Lisa Lutz', 2007)\n"
     ]
    }
   ],
   "source": [
    "import sqlite3\n",
    "\n",
    "conn = sqlite3.connect('books.db')\n",
    "cursor = conn.cursor()\n",
    "\n",
    "cursor.execute('''\n",
    "SELECT * FROM books\n",
    "ORDER BY year\n",
    "''')\n",
    "\n",
    "for row in cursor.fetchall():\n",
    "    print(row)\n",
    "\n",
    "conn.close()\n"
   ]
  },
  {
   "cell_type": "code",
   "execution_count": 25,
   "id": "32764cab-3bf9-4425-8f34-4bff1d5a132b",
   "metadata": {},
   "outputs": [
    {
     "ename": "ArgumentError",
     "evalue": "Column expression, FROM clause, or other columns clause element expected, got [Column('title', TEXT(), table=<books>)]. Did you mean to say select(Column('title', TEXT(), table=<books>))?",
     "output_type": "error",
     "traceback": [
      "\u001b[1;31m---------------------------------------------------------------------------\u001b[0m",
      "\u001b[1;31mArgumentError\u001b[0m                             Traceback (most recent call last)",
      "Cell \u001b[1;32mIn[25], line 11\u001b[0m\n\u001b[0;32m      7\u001b[0m books_table \u001b[38;5;241m=\u001b[39m Table(\u001b[38;5;124m'\u001b[39m\u001b[38;5;124mbooks\u001b[39m\u001b[38;5;124m'\u001b[39m, metadata, autoload_with\u001b[38;5;241m=\u001b[39mengine)\n\u001b[0;32m      9\u001b[0m \u001b[38;5;28;01mwith\u001b[39;00m engine\u001b[38;5;241m.\u001b[39mconnect() \u001b[38;5;28;01mas\u001b[39;00m connection:\n\u001b[1;32m---> 11\u001b[0m     query \u001b[38;5;241m=\u001b[39m select([books_table\u001b[38;5;241m.\u001b[39mc\u001b[38;5;241m.\u001b[39mtitle])\u001b[38;5;241m.\u001b[39morder_by(books_table\u001b[38;5;241m.\u001b[39mc\u001b[38;5;241m.\u001b[39mtitle)\n\u001b[0;32m     13\u001b[0m     result \u001b[38;5;241m=\u001b[39m connection\u001b[38;5;241m.\u001b[39mexecute(query)\n\u001b[0;32m     15\u001b[0m     \u001b[38;5;28;01mfor\u001b[39;00m row \u001b[38;5;129;01min\u001b[39;00m result:\n",
      "File \u001b[1;32m~\\anaconda3\\Lib\\site-packages\\sqlalchemy\\sql\\_selectable_constructors.py:482\u001b[0m, in \u001b[0;36mselect\u001b[1;34m(*entities, **__kw)\u001b[0m\n\u001b[0;32m    480\u001b[0m \u001b[38;5;28;01mif\u001b[39;00m __kw:\n\u001b[0;32m    481\u001b[0m     \u001b[38;5;28;01mraise\u001b[39;00m _no_kw()\n\u001b[1;32m--> 482\u001b[0m \u001b[38;5;28;01mreturn\u001b[39;00m Select(\u001b[38;5;241m*\u001b[39mentities)\n",
      "File \u001b[1;32m~\\anaconda3\\Lib\\site-packages\\sqlalchemy\\sql\\selectable.py:5149\u001b[0m, in \u001b[0;36mSelect.__init__\u001b[1;34m(self, *entities)\u001b[0m\n\u001b[0;32m   5141\u001b[0m \u001b[38;5;28;01mdef\u001b[39;00m \u001b[38;5;21m__init__\u001b[39m(\u001b[38;5;28mself\u001b[39m, \u001b[38;5;241m*\u001b[39mentities: _ColumnsClauseArgument[Any]):\n\u001b[0;32m   5142\u001b[0m \u001b[38;5;250m    \u001b[39m\u001b[38;5;124mr\u001b[39m\u001b[38;5;124;03m\"\"\"Construct a new :class:`_expression.Select`.\u001b[39;00m\n\u001b[0;32m   5143\u001b[0m \n\u001b[0;32m   5144\u001b[0m \u001b[38;5;124;03m    The public constructor for :class:`_expression.Select` is the\u001b[39;00m\n\u001b[0;32m   5145\u001b[0m \u001b[38;5;124;03m    :func:`_sql.select` function.\u001b[39;00m\n\u001b[0;32m   5146\u001b[0m \n\u001b[0;32m   5147\u001b[0m \u001b[38;5;124;03m    \"\"\"\u001b[39;00m\n\u001b[0;32m   5148\u001b[0m     \u001b[38;5;28mself\u001b[39m\u001b[38;5;241m.\u001b[39m_raw_columns \u001b[38;5;241m=\u001b[39m [\n\u001b[1;32m-> 5149\u001b[0m         coercions\u001b[38;5;241m.\u001b[39mexpect(\n\u001b[0;32m   5150\u001b[0m             roles\u001b[38;5;241m.\u001b[39mColumnsClauseRole, ent, apply_propagate_attrs\u001b[38;5;241m=\u001b[39m\u001b[38;5;28mself\u001b[39m\n\u001b[0;32m   5151\u001b[0m         )\n\u001b[0;32m   5152\u001b[0m         \u001b[38;5;28;01mfor\u001b[39;00m ent \u001b[38;5;129;01min\u001b[39;00m entities\n\u001b[0;32m   5153\u001b[0m     ]\n\u001b[0;32m   5155\u001b[0m     GenerativeSelect\u001b[38;5;241m.\u001b[39m\u001b[38;5;21m__init__\u001b[39m(\u001b[38;5;28mself\u001b[39m)\n",
      "File \u001b[1;32m~\\anaconda3\\Lib\\site-packages\\sqlalchemy\\sql\\coercions.py:396\u001b[0m, in \u001b[0;36mexpect\u001b[1;34m(role, element, apply_propagate_attrs, argname, post_inspect, disable_inspection, **kw)\u001b[0m\n\u001b[0;32m    393\u001b[0m                 impl\u001b[38;5;241m.\u001b[39m_raise_for_expected(original_element, argname)\n\u001b[0;32m    395\u001b[0m     \u001b[38;5;28;01mif\u001b[39;00m resolved \u001b[38;5;129;01mis\u001b[39;00m \u001b[38;5;28;01mNone\u001b[39;00m:\n\u001b[1;32m--> 396\u001b[0m         resolved \u001b[38;5;241m=\u001b[39m impl\u001b[38;5;241m.\u001b[39m_literal_coercion(\n\u001b[0;32m    397\u001b[0m             element, argname\u001b[38;5;241m=\u001b[39margname, \u001b[38;5;241m*\u001b[39m\u001b[38;5;241m*\u001b[39mkw\n\u001b[0;32m    398\u001b[0m         )\n\u001b[0;32m    399\u001b[0m \u001b[38;5;28;01melse\u001b[39;00m:\n\u001b[0;32m    400\u001b[0m     resolved \u001b[38;5;241m=\u001b[39m element\n",
      "File \u001b[1;32m~\\anaconda3\\Lib\\site-packages\\sqlalchemy\\sql\\coercions.py:634\u001b[0m, in \u001b[0;36m_CoerceLiterals._literal_coercion\u001b[1;34m(self, element, argname, **kw)\u001b[0m\n\u001b[0;32m    631\u001b[0m \u001b[38;5;28;01mif\u001b[39;00m \u001b[38;5;28mself\u001b[39m\u001b[38;5;241m.\u001b[39m_coerce_numerics \u001b[38;5;129;01mand\u001b[39;00m \u001b[38;5;28misinstance\u001b[39m(element, (numbers\u001b[38;5;241m.\u001b[39mNumber)):\n\u001b[0;32m    632\u001b[0m     \u001b[38;5;28;01mreturn\u001b[39;00m elements\u001b[38;5;241m.\u001b[39mColumnClause(\u001b[38;5;28mstr\u001b[39m(element), is_literal\u001b[38;5;241m=\u001b[39m\u001b[38;5;28;01mTrue\u001b[39;00m)\n\u001b[1;32m--> 634\u001b[0m \u001b[38;5;28mself\u001b[39m\u001b[38;5;241m.\u001b[39m_raise_for_expected(element, argname)\n",
      "File \u001b[1;32m~\\anaconda3\\Lib\\site-packages\\sqlalchemy\\sql\\coercions.py:1122\u001b[0m, in \u001b[0;36mColumnsClauseImpl._raise_for_expected\u001b[1;34m(self, element, argname, resolved, advice, **kw)\u001b[0m\n\u001b[0;32m   1116\u001b[0m \u001b[38;5;28;01mif\u001b[39;00m \u001b[38;5;129;01mnot\u001b[39;00m advice \u001b[38;5;129;01mand\u001b[39;00m \u001b[38;5;28misinstance\u001b[39m(element, \u001b[38;5;28mlist\u001b[39m):\n\u001b[0;32m   1117\u001b[0m     advice \u001b[38;5;241m=\u001b[39m (\n\u001b[0;32m   1118\u001b[0m         \u001b[38;5;124mf\u001b[39m\u001b[38;5;124m\"\u001b[39m\u001b[38;5;124mDid you mean to say select(\u001b[39m\u001b[38;5;124m\"\u001b[39m\n\u001b[0;32m   1119\u001b[0m         \u001b[38;5;124mf\u001b[39m\u001b[38;5;124m\"\u001b[39m\u001b[38;5;132;01m{\u001b[39;00m\u001b[38;5;124m'\u001b[39m\u001b[38;5;124m, \u001b[39m\u001b[38;5;124m'\u001b[39m\u001b[38;5;241m.\u001b[39mjoin(\u001b[38;5;28mrepr\u001b[39m(e)\u001b[38;5;250m \u001b[39m\u001b[38;5;28;01mfor\u001b[39;00m\u001b[38;5;250m \u001b[39me\u001b[38;5;250m \u001b[39m\u001b[38;5;129;01min\u001b[39;00m\u001b[38;5;250m \u001b[39melement)\u001b[38;5;132;01m}\u001b[39;00m\u001b[38;5;124m)?\u001b[39m\u001b[38;5;124m\"\u001b[39m\n\u001b[0;32m   1120\u001b[0m     )\n\u001b[1;32m-> 1122\u001b[0m \u001b[38;5;28;01mreturn\u001b[39;00m \u001b[38;5;28msuper\u001b[39m()\u001b[38;5;241m.\u001b[39m_raise_for_expected(\n\u001b[0;32m   1123\u001b[0m     element, argname\u001b[38;5;241m=\u001b[39margname, resolved\u001b[38;5;241m=\u001b[39mresolved, advice\u001b[38;5;241m=\u001b[39madvice, \u001b[38;5;241m*\u001b[39m\u001b[38;5;241m*\u001b[39mkw\n\u001b[0;32m   1124\u001b[0m )\n",
      "File \u001b[1;32m~\\anaconda3\\Lib\\site-packages\\sqlalchemy\\sql\\coercions.py:693\u001b[0m, in \u001b[0;36m_SelectIsNotFrom._raise_for_expected\u001b[1;34m(self, element, argname, resolved, advice, code, err, **kw)\u001b[0m\n\u001b[0;32m    690\u001b[0m \u001b[38;5;28;01melse\u001b[39;00m:\n\u001b[0;32m    691\u001b[0m     code \u001b[38;5;241m=\u001b[39m \u001b[38;5;28;01mNone\u001b[39;00m\n\u001b[1;32m--> 693\u001b[0m \u001b[38;5;28msuper\u001b[39m()\u001b[38;5;241m.\u001b[39m_raise_for_expected(\n\u001b[0;32m    694\u001b[0m     element,\n\u001b[0;32m    695\u001b[0m     argname\u001b[38;5;241m=\u001b[39margname,\n\u001b[0;32m    696\u001b[0m     resolved\u001b[38;5;241m=\u001b[39mresolved,\n\u001b[0;32m    697\u001b[0m     advice\u001b[38;5;241m=\u001b[39madvice,\n\u001b[0;32m    698\u001b[0m     code\u001b[38;5;241m=\u001b[39mcode,\n\u001b[0;32m    699\u001b[0m     err\u001b[38;5;241m=\u001b[39merr,\n\u001b[0;32m    700\u001b[0m     \u001b[38;5;241m*\u001b[39m\u001b[38;5;241m*\u001b[39mkw,\n\u001b[0;32m    701\u001b[0m )\n\u001b[0;32m    702\u001b[0m \u001b[38;5;66;03m# never reached\u001b[39;00m\n\u001b[0;32m    703\u001b[0m \u001b[38;5;28;01massert\u001b[39;00m \u001b[38;5;28;01mFalse\u001b[39;00m\n",
      "File \u001b[1;32m~\\anaconda3\\Lib\\site-packages\\sqlalchemy\\sql\\coercions.py:518\u001b[0m, in \u001b[0;36mRoleImpl._raise_for_expected\u001b[1;34m(self, element, argname, resolved, advice, code, err, **kw)\u001b[0m\n\u001b[0;32m    515\u001b[0m \u001b[38;5;28;01mif\u001b[39;00m advice:\n\u001b[0;32m    516\u001b[0m     msg \u001b[38;5;241m+\u001b[39m\u001b[38;5;241m=\u001b[39m \u001b[38;5;124m\"\u001b[39m\u001b[38;5;124m \u001b[39m\u001b[38;5;124m\"\u001b[39m \u001b[38;5;241m+\u001b[39m advice\n\u001b[1;32m--> 518\u001b[0m \u001b[38;5;28;01mraise\u001b[39;00m exc\u001b[38;5;241m.\u001b[39mArgumentError(msg, code\u001b[38;5;241m=\u001b[39mcode) \u001b[38;5;28;01mfrom\u001b[39;00m \u001b[38;5;21;01merr\u001b[39;00m\n",
      "\u001b[1;31mArgumentError\u001b[0m: Column expression, FROM clause, or other columns clause element expected, got [Column('title', TEXT(), table=<books>)]. Did you mean to say select(Column('title', TEXT(), table=<books>))?"
     ]
    }
   ],
   "source": [
    "from sqlalchemy import create_engine, Table, MetaData, select\n",
    "\n",
    "engine = create_engine('sqlite:///books.db')\n",
    "\n",
    "metadata = MetaData()\n",
    "\n",
    "books_table = Table('books', metadata, autoload_with=engine)\n",
    "\n",
    "with engine.connect() as connection:\n",
    "\n",
    "    query = select([books_table.c.title]).order_by(books_table.c.title)\n",
    "\n",
    "    result = connection.execute(query)\n",
    "\n",
    "    for row in result:\n",
    "        print(row['title'])\n"
   ]
  },
  {
   "cell_type": "code",
   "execution_count": 27,
   "id": "c07d2808-0b57-4768-822d-f88f4f4d0233",
   "metadata": {},
   "outputs": [
    {
     "ename": "ArgumentError",
     "evalue": "Column expression, FROM clause, or other columns clause element expected, got [Column('title', TEXT(), table=<books>)]. Did you mean to say select(Column('title', TEXT(), table=<books>))?",
     "output_type": "error",
     "traceback": [
      "\u001b[1;31m---------------------------------------------------------------------------\u001b[0m",
      "\u001b[1;31mArgumentError\u001b[0m                             Traceback (most recent call last)",
      "Cell \u001b[1;32mIn[27], line 15\u001b[0m\n\u001b[0;32m     10\u001b[0m books_table \u001b[38;5;241m=\u001b[39m Table(\u001b[38;5;124m'\u001b[39m\u001b[38;5;124mbooks\u001b[39m\u001b[38;5;124m'\u001b[39m, metadata, autoload_with\u001b[38;5;241m=\u001b[39mengine)\n\u001b[0;32m     13\u001b[0m \u001b[38;5;28;01mwith\u001b[39;00m engine\u001b[38;5;241m.\u001b[39mconnect() \u001b[38;5;28;01mas\u001b[39;00m connection:\n\u001b[1;32m---> 15\u001b[0m     query \u001b[38;5;241m=\u001b[39m select([books_table\u001b[38;5;241m.\u001b[39mc\u001b[38;5;241m.\u001b[39mtitle])\u001b[38;5;241m.\u001b[39morder_by(books_table\u001b[38;5;241m.\u001b[39mc\u001b[38;5;241m.\u001b[39mtitle)\n\u001b[0;32m     18\u001b[0m     result \u001b[38;5;241m=\u001b[39m connection\u001b[38;5;241m.\u001b[39mexecute(query)\n\u001b[0;32m     21\u001b[0m     \u001b[38;5;28;01mfor\u001b[39;00m row \u001b[38;5;129;01min\u001b[39;00m result:\n",
      "File \u001b[1;32m~\\anaconda3\\Lib\\site-packages\\sqlalchemy\\sql\\_selectable_constructors.py:482\u001b[0m, in \u001b[0;36mselect\u001b[1;34m(*entities, **__kw)\u001b[0m\n\u001b[0;32m    480\u001b[0m \u001b[38;5;28;01mif\u001b[39;00m __kw:\n\u001b[0;32m    481\u001b[0m     \u001b[38;5;28;01mraise\u001b[39;00m _no_kw()\n\u001b[1;32m--> 482\u001b[0m \u001b[38;5;28;01mreturn\u001b[39;00m Select(\u001b[38;5;241m*\u001b[39mentities)\n",
      "File \u001b[1;32m~\\anaconda3\\Lib\\site-packages\\sqlalchemy\\sql\\selectable.py:5149\u001b[0m, in \u001b[0;36mSelect.__init__\u001b[1;34m(self, *entities)\u001b[0m\n\u001b[0;32m   5141\u001b[0m \u001b[38;5;28;01mdef\u001b[39;00m \u001b[38;5;21m__init__\u001b[39m(\u001b[38;5;28mself\u001b[39m, \u001b[38;5;241m*\u001b[39mentities: _ColumnsClauseArgument[Any]):\n\u001b[0;32m   5142\u001b[0m \u001b[38;5;250m    \u001b[39m\u001b[38;5;124mr\u001b[39m\u001b[38;5;124;03m\"\"\"Construct a new :class:`_expression.Select`.\u001b[39;00m\n\u001b[0;32m   5143\u001b[0m \n\u001b[0;32m   5144\u001b[0m \u001b[38;5;124;03m    The public constructor for :class:`_expression.Select` is the\u001b[39;00m\n\u001b[0;32m   5145\u001b[0m \u001b[38;5;124;03m    :func:`_sql.select` function.\u001b[39;00m\n\u001b[0;32m   5146\u001b[0m \n\u001b[0;32m   5147\u001b[0m \u001b[38;5;124;03m    \"\"\"\u001b[39;00m\n\u001b[0;32m   5148\u001b[0m     \u001b[38;5;28mself\u001b[39m\u001b[38;5;241m.\u001b[39m_raw_columns \u001b[38;5;241m=\u001b[39m [\n\u001b[1;32m-> 5149\u001b[0m         coercions\u001b[38;5;241m.\u001b[39mexpect(\n\u001b[0;32m   5150\u001b[0m             roles\u001b[38;5;241m.\u001b[39mColumnsClauseRole, ent, apply_propagate_attrs\u001b[38;5;241m=\u001b[39m\u001b[38;5;28mself\u001b[39m\n\u001b[0;32m   5151\u001b[0m         )\n\u001b[0;32m   5152\u001b[0m         \u001b[38;5;28;01mfor\u001b[39;00m ent \u001b[38;5;129;01min\u001b[39;00m entities\n\u001b[0;32m   5153\u001b[0m     ]\n\u001b[0;32m   5155\u001b[0m     GenerativeSelect\u001b[38;5;241m.\u001b[39m\u001b[38;5;21m__init__\u001b[39m(\u001b[38;5;28mself\u001b[39m)\n",
      "File \u001b[1;32m~\\anaconda3\\Lib\\site-packages\\sqlalchemy\\sql\\coercions.py:396\u001b[0m, in \u001b[0;36mexpect\u001b[1;34m(role, element, apply_propagate_attrs, argname, post_inspect, disable_inspection, **kw)\u001b[0m\n\u001b[0;32m    393\u001b[0m                 impl\u001b[38;5;241m.\u001b[39m_raise_for_expected(original_element, argname)\n\u001b[0;32m    395\u001b[0m     \u001b[38;5;28;01mif\u001b[39;00m resolved \u001b[38;5;129;01mis\u001b[39;00m \u001b[38;5;28;01mNone\u001b[39;00m:\n\u001b[1;32m--> 396\u001b[0m         resolved \u001b[38;5;241m=\u001b[39m impl\u001b[38;5;241m.\u001b[39m_literal_coercion(\n\u001b[0;32m    397\u001b[0m             element, argname\u001b[38;5;241m=\u001b[39margname, \u001b[38;5;241m*\u001b[39m\u001b[38;5;241m*\u001b[39mkw\n\u001b[0;32m    398\u001b[0m         )\n\u001b[0;32m    399\u001b[0m \u001b[38;5;28;01melse\u001b[39;00m:\n\u001b[0;32m    400\u001b[0m     resolved \u001b[38;5;241m=\u001b[39m element\n",
      "File \u001b[1;32m~\\anaconda3\\Lib\\site-packages\\sqlalchemy\\sql\\coercions.py:634\u001b[0m, in \u001b[0;36m_CoerceLiterals._literal_coercion\u001b[1;34m(self, element, argname, **kw)\u001b[0m\n\u001b[0;32m    631\u001b[0m \u001b[38;5;28;01mif\u001b[39;00m \u001b[38;5;28mself\u001b[39m\u001b[38;5;241m.\u001b[39m_coerce_numerics \u001b[38;5;129;01mand\u001b[39;00m \u001b[38;5;28misinstance\u001b[39m(element, (numbers\u001b[38;5;241m.\u001b[39mNumber)):\n\u001b[0;32m    632\u001b[0m     \u001b[38;5;28;01mreturn\u001b[39;00m elements\u001b[38;5;241m.\u001b[39mColumnClause(\u001b[38;5;28mstr\u001b[39m(element), is_literal\u001b[38;5;241m=\u001b[39m\u001b[38;5;28;01mTrue\u001b[39;00m)\n\u001b[1;32m--> 634\u001b[0m \u001b[38;5;28mself\u001b[39m\u001b[38;5;241m.\u001b[39m_raise_for_expected(element, argname)\n",
      "File \u001b[1;32m~\\anaconda3\\Lib\\site-packages\\sqlalchemy\\sql\\coercions.py:1122\u001b[0m, in \u001b[0;36mColumnsClauseImpl._raise_for_expected\u001b[1;34m(self, element, argname, resolved, advice, **kw)\u001b[0m\n\u001b[0;32m   1116\u001b[0m \u001b[38;5;28;01mif\u001b[39;00m \u001b[38;5;129;01mnot\u001b[39;00m advice \u001b[38;5;129;01mand\u001b[39;00m \u001b[38;5;28misinstance\u001b[39m(element, \u001b[38;5;28mlist\u001b[39m):\n\u001b[0;32m   1117\u001b[0m     advice \u001b[38;5;241m=\u001b[39m (\n\u001b[0;32m   1118\u001b[0m         \u001b[38;5;124mf\u001b[39m\u001b[38;5;124m\"\u001b[39m\u001b[38;5;124mDid you mean to say select(\u001b[39m\u001b[38;5;124m\"\u001b[39m\n\u001b[0;32m   1119\u001b[0m         \u001b[38;5;124mf\u001b[39m\u001b[38;5;124m\"\u001b[39m\u001b[38;5;132;01m{\u001b[39;00m\u001b[38;5;124m'\u001b[39m\u001b[38;5;124m, \u001b[39m\u001b[38;5;124m'\u001b[39m\u001b[38;5;241m.\u001b[39mjoin(\u001b[38;5;28mrepr\u001b[39m(e)\u001b[38;5;250m \u001b[39m\u001b[38;5;28;01mfor\u001b[39;00m\u001b[38;5;250m \u001b[39me\u001b[38;5;250m \u001b[39m\u001b[38;5;129;01min\u001b[39;00m\u001b[38;5;250m \u001b[39melement)\u001b[38;5;132;01m}\u001b[39;00m\u001b[38;5;124m)?\u001b[39m\u001b[38;5;124m\"\u001b[39m\n\u001b[0;32m   1120\u001b[0m     )\n\u001b[1;32m-> 1122\u001b[0m \u001b[38;5;28;01mreturn\u001b[39;00m \u001b[38;5;28msuper\u001b[39m()\u001b[38;5;241m.\u001b[39m_raise_for_expected(\n\u001b[0;32m   1123\u001b[0m     element, argname\u001b[38;5;241m=\u001b[39margname, resolved\u001b[38;5;241m=\u001b[39mresolved, advice\u001b[38;5;241m=\u001b[39madvice, \u001b[38;5;241m*\u001b[39m\u001b[38;5;241m*\u001b[39mkw\n\u001b[0;32m   1124\u001b[0m )\n",
      "File \u001b[1;32m~\\anaconda3\\Lib\\site-packages\\sqlalchemy\\sql\\coercions.py:693\u001b[0m, in \u001b[0;36m_SelectIsNotFrom._raise_for_expected\u001b[1;34m(self, element, argname, resolved, advice, code, err, **kw)\u001b[0m\n\u001b[0;32m    690\u001b[0m \u001b[38;5;28;01melse\u001b[39;00m:\n\u001b[0;32m    691\u001b[0m     code \u001b[38;5;241m=\u001b[39m \u001b[38;5;28;01mNone\u001b[39;00m\n\u001b[1;32m--> 693\u001b[0m \u001b[38;5;28msuper\u001b[39m()\u001b[38;5;241m.\u001b[39m_raise_for_expected(\n\u001b[0;32m    694\u001b[0m     element,\n\u001b[0;32m    695\u001b[0m     argname\u001b[38;5;241m=\u001b[39margname,\n\u001b[0;32m    696\u001b[0m     resolved\u001b[38;5;241m=\u001b[39mresolved,\n\u001b[0;32m    697\u001b[0m     advice\u001b[38;5;241m=\u001b[39madvice,\n\u001b[0;32m    698\u001b[0m     code\u001b[38;5;241m=\u001b[39mcode,\n\u001b[0;32m    699\u001b[0m     err\u001b[38;5;241m=\u001b[39merr,\n\u001b[0;32m    700\u001b[0m     \u001b[38;5;241m*\u001b[39m\u001b[38;5;241m*\u001b[39mkw,\n\u001b[0;32m    701\u001b[0m )\n\u001b[0;32m    702\u001b[0m \u001b[38;5;66;03m# never reached\u001b[39;00m\n\u001b[0;32m    703\u001b[0m \u001b[38;5;28;01massert\u001b[39;00m \u001b[38;5;28;01mFalse\u001b[39;00m\n",
      "File \u001b[1;32m~\\anaconda3\\Lib\\site-packages\\sqlalchemy\\sql\\coercions.py:518\u001b[0m, in \u001b[0;36mRoleImpl._raise_for_expected\u001b[1;34m(self, element, argname, resolved, advice, code, err, **kw)\u001b[0m\n\u001b[0;32m    515\u001b[0m \u001b[38;5;28;01mif\u001b[39;00m advice:\n\u001b[0;32m    516\u001b[0m     msg \u001b[38;5;241m+\u001b[39m\u001b[38;5;241m=\u001b[39m \u001b[38;5;124m\"\u001b[39m\u001b[38;5;124m \u001b[39m\u001b[38;5;124m\"\u001b[39m \u001b[38;5;241m+\u001b[39m advice\n\u001b[1;32m--> 518\u001b[0m \u001b[38;5;28;01mraise\u001b[39;00m exc\u001b[38;5;241m.\u001b[39mArgumentError(msg, code\u001b[38;5;241m=\u001b[39mcode) \u001b[38;5;28;01mfrom\u001b[39;00m \u001b[38;5;21;01merr\u001b[39;00m\n",
      "\u001b[1;31mArgumentError\u001b[0m: Column expression, FROM clause, or other columns clause element expected, got [Column('title', TEXT(), table=<books>)]. Did you mean to say select(Column('title', TEXT(), table=<books>))?"
     ]
    }
   ],
   "source": [
    "from sqlalchemy import create_engine, Table, MetaData, select\n",
    "\n",
    "\n",
    "engine = create_engine('sqlite:///books.db')\n",
    "\n",
    "\n",
    "metadata = MetaData()\n",
    "\n",
    "\n",
    "books_table = Table('books', metadata, autoload_with=engine)\n",
    "\n",
    "\n",
    "with engine.connect() as connection:\n",
    "\n",
    "    query = select([books_table.c.title]).order_by(books_table.c.title)\n",
    "    \n",
    "\n",
    "    result = connection.execute(query)\n",
    "    \n",
    "\n",
    "    for row in result:\n",
    "        print(row['title'])\n"
   ]
  },
  {
   "cell_type": "code",
   "execution_count": null,
   "id": "774ed124-925e-4026-8062-13f15f364451",
   "metadata": {},
   "outputs": [],
   "source": [
    "from sqlalchemy import create_engine, Table, MetaData, select\n",
    "\n",
    "# Create an engine that connects to the SQLite database\n",
    "engine = create_engine('sqlite:///books.db')\n",
    "\n",
    "# Initialize metadata\n",
    "metadata = MetaData()\n",
    "\n",
    "# Reflect the existing books table into a new Table object\n",
    "books_table = Table('books', metadata, autoload_with=engine)\n",
    "\n",
    "# Create a connection to the database\n",
    "with engine.connect() as connection:\n",
    "    # Create a select query to get the title column from the books table in alphabetical order\n",
    "    query = select([books_table.c.title]).order_by(books_table.c.title)\n",
    "    \n",
    "    # Execute the query\n",
    "    result = connection.execute(query)\n",
    "    \n",
    "    # Print the result\n",
    "    for row in result:\n",
    "        print(row['title'])\n"
   ]
  }
 ],
 "metadata": {
  "kernelspec": {
   "display_name": "Python 3 (ipykernel)",
   "language": "python",
   "name": "python3"
  },
  "language_info": {
   "codemirror_mode": {
    "name": "ipython",
    "version": 3
   },
   "file_extension": ".py",
   "mimetype": "text/x-python",
   "name": "python",
   "nbconvert_exporter": "python",
   "pygments_lexer": "ipython3",
   "version": "3.12.4"
  }
 },
 "nbformat": 4,
 "nbformat_minor": 5
}
