{
 "cells": [
  {
   "cell_type": "code",
   "execution_count": 1,
   "id": "fa582038-236b-4f4c-830a-8f5057a1d939",
   "metadata": {},
   "outputs": [],
   "source": [
    "# my_sum/__init__.py\n",
    "\n",
    "def my_sum(iterable):\n",
    "    total = 0\n",
    "    for item in iterable:\n",
    "        total += item\n",
    "    return total\n"
   ]
  },
  {
   "cell_type": "code",
   "execution_count": 3,
   "id": "82b9646a-142d-43d8-add1-db84a1956cc3",
   "metadata": {},
   "outputs": [
    {
     "ename": "ModuleNotFoundError",
     "evalue": "No module named 'my_sum'",
     "output_type": "error",
     "traceback": [
      "\u001b[1;31m---------------------------------------------------------------------------\u001b[0m",
      "\u001b[1;31mModuleNotFoundError\u001b[0m                       Traceback (most recent call last)",
      "Cell \u001b[1;32mIn[3], line 4\u001b[0m\n\u001b[0;32m      1\u001b[0m \u001b[38;5;66;03m# test_my_sum.py\u001b[39;00m\n\u001b[0;32m      3\u001b[0m \u001b[38;5;28;01mimport\u001b[39;00m \u001b[38;5;21;01munittest\u001b[39;00m\n\u001b[1;32m----> 4\u001b[0m \u001b[38;5;28;01mfrom\u001b[39;00m \u001b[38;5;21;01mmy_sum\u001b[39;00m \u001b[38;5;28;01mimport\u001b[39;00m my_sum\n\u001b[0;32m      6\u001b[0m \u001b[38;5;28;01mclass\u001b[39;00m \u001b[38;5;21;01mTestMySum\u001b[39;00m(unittest\u001b[38;5;241m.\u001b[39mTestCase):\n\u001b[0;32m      7\u001b[0m     \u001b[38;5;28;01mdef\u001b[39;00m \u001b[38;5;21mtest_sum_empty\u001b[39m(\u001b[38;5;28mself\u001b[39m):\n",
      "\u001b[1;31mModuleNotFoundError\u001b[0m: No module named 'my_sum'"
     ]
    }
   ],
   "source": [
    "# test_my_sum.py\n",
    "\n",
    "import unittest\n",
    "from my_sum import my_sum\n",
    "\n",
    "class TestMySum(unittest.TestCase):\n",
    "    def test_sum_empty(self):\n",
    "        self.assertEqual(my_sum([]), 0)\n",
    "\n",
    "    def test_sum_single_element(self):\n",
    "        self.assertEqual(my_sum([5]), 5)\n",
    "\n",
    "    def test_sum_multiple_elements(self):\n",
    "        self.assertEqual(my_sum([1, 2, 3, 4]), 10)\n",
    "        self.assertEqual(my_sum([-1, 1]), 0)\n",
    "\n",
    "if __name__ == '__main__':\n",
    "    unittest.main()\n"
   ]
  },
  {
   "cell_type": "code",
   "execution_count": null,
   "id": "d9ac5ee0-74b8-49fe-aec2-df71d7e029f6",
   "metadata": {},
   "outputs": [],
   "source": []
  }
 ],
 "metadata": {
  "kernelspec": {
   "display_name": "Python 3 (ipykernel)",
   "language": "python",
   "name": "python3"
  },
  "language_info": {
   "codemirror_mode": {
    "name": "ipython",
    "version": 3
   },
   "file_extension": ".py",
   "mimetype": "text/x-python",
   "name": "python",
   "nbconvert_exporter": "python",
   "pygments_lexer": "ipython3",
   "version": "3.12.4"
  }
 },
 "nbformat": 4,
 "nbformat_minor": 5
}
